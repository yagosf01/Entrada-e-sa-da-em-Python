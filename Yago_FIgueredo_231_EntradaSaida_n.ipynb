{
  "nbformat": 4,
  "nbformat_minor": 0,
  "metadata": {
    "colab": {
      "provenance": [],
      "include_colab_link": true
    },
    "kernelspec": {
      "name": "python3",
      "display_name": "Python 3"
    }
  },
  "cells": [
    {
      "cell_type": "markdown",
      "metadata": {
        "id": "view-in-github",
        "colab_type": "text"
      },
      "source": [
        "<a href=\"https://colab.research.google.com/github/yagosf01/Entrada-e-sa-da-em-Python/blob/main/Yago_FIgueredo_231_EntradaSaida_n.ipynb\" target=\"_parent\"><img src=\"https://colab.research.google.com/assets/colab-badge.svg\" alt=\"Open In Colab\"/></a>"
      ]
    },
    {
      "cell_type": "markdown",
      "metadata": {
        "id": "5gti273fgVUm"
      },
      "source": [
        "# Exercícios para construir programas com ENTRADA, PROCESSAMENTO e SAÍDA"
      ]
    },
    {
      "cell_type": "markdown",
      "metadata": {
        "id": "OhRjsGO5gXft"
      },
      "source": [
        "### 1. Faça um programa que leia um número, multiplique ele por 2 e apresente o resultado.\n",
        "      LEIA numero\n",
        "      resultado = numero * 2\n",
        "      ESCREVA resultado"
      ]
    },
    {
      "cell_type": "code",
      "metadata": {
        "id": "gl_HmcKjgIgH",
        "colab": {
          "base_uri": "https://localhost:8080/"
        },
        "outputId": "923df5a3-572a-4665-dd90-5609e5df1c57"
      },
      "source": [
        "# 1º passo - identificar a(s) entrada(s) - variável número\n",
        "numero = int(input('Informe um valor......: '))\n",
        "\n",
        "# 2º passo - identificar o processamento/cálculo\n",
        "resultado = numero * 2\n",
        "\n",
        "# 3º passo - apresentar a(s) variáveis que foram calculadas\n",
        "print('A soma é=',resultado)"
      ],
      "execution_count": null,
      "outputs": [
        {
          "output_type": "stream",
          "name": "stdout",
          "text": [
            "Informe um valor......: 3\n",
            "A soma é= 6\n"
          ]
        }
      ]
    },
    {
      "cell_type": "markdown",
      "metadata": {
        "id": "tYDfNkC3geee"
      },
      "source": [
        "### 2. Faça um programa que:\n",
        "* receba três números inteiros\n",
        "* calcule e mostre a soma desses números.\n"
      ]
    },
    {
      "cell_type": "code",
      "metadata": {
        "id": "KVDopJZngcRf",
        "colab": {
          "base_uri": "https://localhost:8080/"
        },
        "outputId": "537f9c67-25ea-4961-abd9-c1e75fda6ffd"
      },
      "source": [
        "numero1 = int(input(\"Insira seu numero aqui: \"))\n",
        "numero2 = int(input(\"Insira seu numero aqui: \"))\n",
        "numero3 = int(input(\"Insira seu numero aqui: \"))\n",
        "\n",
        "soma = numero1 + numero2 + numero3\n",
        "\n",
        "print('O resultado da soma é: ',soma)\n"
      ],
      "execution_count": null,
      "outputs": [
        {
          "output_type": "stream",
          "name": "stdout",
          "text": [
            "Insira seu numero aqui: 10\n",
            "Insira seu numero aqui: 20\n",
            "Insira seu numero aqui: 30\n",
            "O resultado da soma é:  60\n"
          ]
        }
      ]
    },
    {
      "cell_type": "markdown",
      "metadata": {
        "id": "lMGZBLxfghBl"
      },
      "source": [
        "### 3. Faça um programa que receba três notas, calcule e mostre a média aritmética.     "
      ]
    },
    {
      "cell_type": "code",
      "metadata": {
        "id": "awkP7ZbHgxRO",
        "colab": {
          "base_uri": "https://localhost:8080/"
        },
        "outputId": "82bada42-2483-4b82-8da3-78b2d8b4e88d"
      },
      "source": [
        "nota1 = float(input('Insira sua nota: '))\n",
        "nota2 = float(input('Insira sua nota: '))\n",
        "nota3 = float(input('Insira sua nota: '))\n",
        "\n",
        "media = (nota1 + nota2 + nota3) / 3 \n",
        "\n",
        "print('A media da sala: ',media)\n"
      ],
      "execution_count": null,
      "outputs": [
        {
          "output_type": "stream",
          "name": "stdout",
          "text": [
            "Insira sua nota: 7.5\n",
            "Insira sua nota: 8.0\n",
            "Insira sua nota: 9.6\n",
            "A media da sala:  8.366666666666667\n"
          ]
        }
      ]
    },
    {
      "cell_type": "markdown",
      "metadata": {
        "id": "wh1Bjz9agxme"
      },
      "source": [
        "### 4. Faça um programa que:\n",
        "* receba o salário de um funcionário\n",
        "* calcule e mostre o novo salário, sabendo-se que este sofreu um aumento de 25%.\n",
        "\n",
        "      LEIA salario\n",
        "      novoSalario = salario + (salario * 25 / 100)\n",
        "      ESCREVA novoSalario"
      ]
    },
    {
      "cell_type": "code",
      "metadata": {
        "id": "FxXwABFVgygE",
        "colab": {
          "base_uri": "https://localhost:8080/"
        },
        "outputId": "d86f119b-026e-436c-f924-05332ee42ad7"
      },
      "source": [
        "salario = float(input('Insira seu salario aqui: '))\n",
        "\n",
        "novoSalario = salario + (salario * 25 / 100)\n",
        "\n",
        "print('Seu novo salario é: ',novoSalario)"
      ],
      "execution_count": null,
      "outputs": [
        {
          "output_type": "stream",
          "name": "stdout",
          "text": [
            "Insira seu salario aqui: 1212.12\n",
            "Seu novo salario é:  1515.1499999999999\n"
          ]
        }
      ]
    },
    {
      "cell_type": "markdown",
      "metadata": {
        "id": "YQP_f4hzgyrh"
      },
      "source": [
        "### 5. Faça um programa que receba o salário de um funcionário e o percentual de aumento, calcule e mostre o valor do aumento e o novo salário.\n"
      ]
    },
    {
      "cell_type": "code",
      "metadata": {
        "id": "9T2dzNEug1PR",
        "colab": {
          "base_uri": "https://localhost:8080/"
        },
        "outputId": "3b1c294c-f410-4fc2-b053-a803dc279c6a"
      },
      "source": [
        "salario = float(input('Insira seu salario: '))\n",
        "percentual = int(input('Insira o percentual aqui: '))\n",
        "\n",
        "novoSalario = salario + (salario * percentual / 100)\n",
        "\n",
        "print('Seu novo salario é: ',novoSalario)\n"
      ],
      "execution_count": null,
      "outputs": [
        {
          "output_type": "stream",
          "name": "stdout",
          "text": [
            "Insira seu salario: 800\n",
            "Insira o percentual aqui: 32\n",
            "Seu novo salario é:  1056.0\n"
          ]
        }
      ]
    },
    {
      "cell_type": "markdown",
      "metadata": {
        "id": "PXXsNWWEg1bu"
      },
      "source": [
        "### 6. Faça um programa que receba o salário base de um funcionário, calcule e mostre o salário a receber, sabendo-se que o funcionário tem gratificação de 5% sobre o salário base e **paga imposto** de 7% também sobre o salário base."
      ]
    },
    {
      "cell_type": "code",
      "metadata": {
        "id": "x7xfAIUgg5qV",
        "colab": {
          "base_uri": "https://localhost:8080/"
        },
        "outputId": "f4d33fc4-2f71-4be1-a664-c9b8757b5867"
      },
      "source": [
        "salario = float(input('Insira aqui seu salario: '))\n",
        "\n",
        "gratificacao = (salario * 5 / 100)\n",
        "impost = (salario * 7 / 100)\n",
        "novoSalario = salario + gratificacao - impost\n",
        "\n",
        "print('Seu novo salario é :',novoSalario)"
      ],
      "execution_count": null,
      "outputs": [
        {
          "output_type": "stream",
          "name": "stdout",
          "text": [
            "Insira aqui seu salario: 4500\n",
            "Seu novo salario é : 4410.0\n"
          ]
        }
      ]
    },
    {
      "cell_type": "markdown",
      "metadata": {
        "id": "wSkc33VHg50d"
      },
      "source": [
        "### 7. Faça um programa que receba o salário base de um funcionário, calcule e mostre seu salário a receber, sabendo-se que o funcionário tem gratificação de 50,00 sobre o salário base e **paga** imposto que deve ser lido e é aplicado sobre o salário base.\n",
        "\n",
        "    LEIA salario, perImposto\n",
        "    imposto = salario * perImposto / 100\n",
        "    salario_a_receber = salario + 50 - imposto\n",
        "    ESCREVA salario_a_receber"
      ]
    },
    {
      "cell_type": "code",
      "metadata": {
        "id": "rEwclxM7g8cj",
        "colab": {
          "base_uri": "https://localhost:8080/"
        },
        "outputId": "45aaa58f-00ba-4e6b-8b35-2c2be6e82f89"
      },
      "source": [
        "salario = float(input('Insira o seu salario: '))\n",
        "perImposto = int(input('Insira o imposto: '))\n",
        "\n",
        "imposto = salario * perImposto / 100\n",
        "salarioReceber = salario + 50 - imposto\n",
        "\n",
        "print('Seu novo salario é: ',salarioReceber)"
      ],
      "execution_count": null,
      "outputs": [
        {
          "output_type": "stream",
          "name": "stdout",
          "text": [
            "Insira o seu salario: 1000\n",
            "Insira o imposto: 3\n",
            "Seu novo salario é:  1020.0\n"
          ]
        }
      ]
    },
    {
      "cell_type": "markdown",
      "metadata": {
        "id": "pvZSNjjzg8oq"
      },
      "source": [
        "### 8. Faça um programa que receba o valor de um depósito e o valor da taxa de juros, calcule e mostre o valor do rendimento e o valor total depois do rendimento de um mês.\n",
        "    rendimento = deposito * taxa / 100\n",
        "    total = deposito + rendimento"
      ]
    },
    {
      "cell_type": "code",
      "metadata": {
        "id": "k0zejQegg9ma",
        "colab": {
          "base_uri": "https://localhost:8080/"
        },
        "outputId": "fd8ac23e-15e9-41db-eb54-8f5da7c5fbc2"
      },
      "source": [
        "deposito = float(input('Insira o valor do deposito: '))\n",
        "juros = int(input('Insira o valor da taxa de juros: '))\n",
        "\n",
        "rendimento = deposito * juros / 100\n",
        "total = deposito + rendimento\n",
        "\n",
        "print('O valor total é: ',total)\n",
        "print('O valor do rendimento é: ',rendimento)"
      ],
      "execution_count": null,
      "outputs": [
        {
          "output_type": "stream",
          "name": "stdout",
          "text": [
            "Insira o valor do deposito: 5000\n",
            "Insira o valor da taxa de juros: 12\n",
            "O valor total é:  5600.0\n",
            "O valor do rendimento é:  600.0\n"
          ]
        }
      ]
    },
    {
      "cell_type": "markdown",
      "metadata": {
        "id": "z42ADdywg9xS"
      },
      "source": [
        "### 9. Faça um programa que calcule e mostre a área de um triângulo. Sabe-se que: Área = (base * altura) / 2."
      ]
    },
    {
      "cell_type": "code",
      "metadata": {
        "id": "F-yamLhahCTK",
        "colab": {
          "base_uri": "https://localhost:8080/"
        },
        "outputId": "66c17817-34e1-4633-ea9f-8e7200e554f1"
      },
      "source": [
        "base = int(input('Insira a base: '))\n",
        "altura = int(input('Insira a altura: '))\n",
        "\n",
        "area = (base * altura) / 2\n",
        "\n",
        "print(area)"
      ],
      "execution_count": null,
      "outputs": [
        {
          "output_type": "stream",
          "name": "stdout",
          "text": [
            "Insira a base: 20\n",
            "Insira a altura: 10\n",
            "100.0\n"
          ]
        }
      ]
    },
    {
      "cell_type": "markdown",
      "metadata": {
        "id": "s4oSY4EghCfn"
      },
      "source": [
        "### 10. Faça um programa que calcule e mostre a área de um círculo. Sabe-se que: \n",
        "    area = pi * raio² ou \n",
        "    area = 3.1415 * raio²"
      ]
    },
    {
      "cell_type": "code",
      "metadata": {
        "id": "tvPiHGB0hE5N",
        "colab": {
          "base_uri": "https://localhost:8080/"
        },
        "outputId": "929476ed-ae08-49f9-d61f-abbf7787588e"
      },
      "source": [
        "raio = int(input('Insira o raio: '))\n",
        "\n",
        "area = 3,1415 * (raio * raio)\n",
        "\n",
        "print(area)\n"
      ],
      "execution_count": null,
      "outputs": [
        {
          "output_type": "stream",
          "name": "stdout",
          "text": [
            "Insira o raio: 10\n",
            "(3, 141500)\n"
          ]
        }
      ]
    },
    {
      "cell_type": "markdown",
      "metadata": {
        "id": "vTot3sXrhFAT"
      },
      "source": [
        "### 11. Faça um programa que receba um número, calcule e mostre:\n",
        "* O número digitado ao quadrado\n",
        "* O número digitado ao cubo\n",
        "* A raiz do número digitado\n",
        "* A raiz cúbica do número digitado\n",
        "\n",
        "      LEIA numero\n",
        "      quadrado = numero ** 2\n",
        "      cubo = numero ** 3\n",
        "      raiz_quadrada = numero ** (½) (meio, ou 0.5)\n",
        "      raiz_cubica = numero ** (⅓) (um terço, ou 0.33)\n",
        "      ESCREVA quadrado, cubo, raiz_quadrada, raiz_cubica\n",
        "\n",
        "\n",
        "      raiz_quadrada = numero ** (1/2) ou\n",
        "      raiz_quadrada = numero ** 0.5"
      ]
    },
    {
      "cell_type": "code",
      "metadata": {
        "id": "TT0-h8nChILi",
        "colab": {
          "base_uri": "https://localhost:8080/"
        },
        "outputId": "1ec35d01-1362-40d4-e75e-7e089c6a4793"
      },
      "source": [
        "numero = int(input('Insira o numero: '))\n",
        "\n",
        "quadrado = numero ** 2 \n",
        "cubo = numero ** 3 \n",
        "raiz_quadrada = numero ** 0.5\n",
        "raiz_cubica = numero ** 0.33\n",
        "\n",
        "print('Quadrado: ',quadrado)\n",
        "print('Cubo: ',cubo)\n",
        "print('Raiz quadrada: ',raiz_quadrada)\n",
        "print('Raiz Cubica: ',raiz_cubica)"
      ],
      "execution_count": null,
      "outputs": [
        {
          "output_type": "stream",
          "name": "stdout",
          "text": [
            "Insira o numero: 10\n",
            "Quadrado:  100\n",
            "Cubo:  1000\n",
            "Raiz quadrada:  3.1622776601683795\n",
            "Raiz Cubica:  2.137962089502232\n"
          ]
        }
      ]
    },
    {
      "cell_type": "markdown",
      "metadata": {
        "id": "6w8k1c0ShIWK"
      },
      "source": [
        "### 12. Faça um programa que receba dois números, calcule e mostre um elevado ao outro. Use os caracteres **\n"
      ]
    },
    {
      "cell_type": "code",
      "metadata": {
        "id": "2KMY_7MQhKuf",
        "colab": {
          "base_uri": "https://localhost:8080/"
        },
        "outputId": "13cea5df-0fd5-4b2e-bbe1-17a91b8c3023"
      },
      "source": [
        "n1 = int(input('Insira um numero: '))\n",
        "n2 = int(input('Insira um numero: '))\n",
        "\n",
        "calculo = n1 ** n2\n",
        "\n",
        "print(calculo)\n"
      ],
      "execution_count": null,
      "outputs": [
        {
          "output_type": "stream",
          "name": "stdout",
          "text": [
            "Insira um numero: 2\n",
            "Insira um numero: 4\n",
            "16\n"
          ]
        }
      ]
    },
    {
      "cell_type": "markdown",
      "metadata": {
        "id": "IKp4FbUQhK3f"
      },
      "source": [
        "### 13. Sabe-se que:\n",
        "\n",
        "* pé = 12 polegadas\n",
        "* 1 jarda = 3 pés\n",
        "* 1 milha = 1760 jarda\n",
        "\n",
        "Faça um programa que receba uma medida em pés, faça as conversões a seguir e mostre os resultados.\n",
        "\n",
        "* Polegadas;\n",
        "* Jardas;\n",
        "* Milhas.\n",
        "\n",
        "      LEIA pes\n",
        "      polegadas = pes * 12\n",
        "      jardas = pes / 3\n",
        "      milhas = jardas / 1760\n",
        "      ESCREVA polegadas, jardas, milhas"
      ]
    },
    {
      "cell_type": "code",
      "metadata": {
        "id": "RIaq7VtchNNp",
        "colab": {
          "base_uri": "https://localhost:8080/"
        },
        "outputId": "54056d4f-01ca-464d-d04f-4cb95aafcba4"
      },
      "source": [
        "pes = int(input('Insira o numero de pes: '))\n",
        "\n",
        "polegadas = pes * 12\n",
        "jardas = pes / 3\n",
        "milhas = jardas / 1760\n",
        "\n",
        "print('Polegadas: ',polegadas)\n",
        "print('Jardas: ',jardas)\n",
        "print('Milhas: ',milhas)\n"
      ],
      "execution_count": null,
      "outputs": [
        {
          "output_type": "stream",
          "name": "stdout",
          "text": [
            "Insira o numero de pes: 10\n",
            "Polegadas:  120\n",
            "Jardas:  3.3333333333333335\n",
            "Milhas:  0.001893939393939394\n"
          ]
        }
      ]
    },
    {
      "cell_type": "markdown",
      "metadata": {
        "id": "AuDRKznFhNXx"
      },
      "source": [
        "### 14. Faça um programa que receba o ano de nascimento de uma pessoa e o ano atual, calcule e mostre:\n",
        "* a idade atual da pessoa;\n",
        "* quantos anos ela terá em 2050."
      ]
    },
    {
      "cell_type": "code",
      "metadata": {
        "id": "OMzeO-7bhOGb",
        "colab": {
          "base_uri": "https://localhost:8080/"
        },
        "outputId": "8ab78846-16d2-48c4-f88e-bba4b497d5b8"
      },
      "source": [
        "anoN = int(input('Insira o ano de nascimento: '))\n",
        "anoAtual = int(input('Insira o ano atual: '))\n",
        "\n",
        "idadeatual = anoAtual - anoN\n",
        "idadeFutura = 2050 - anoN\n",
        "\n",
        "print('A pessoa tem: ',idadeatual, ' Anos')\n",
        "print('Em 2050 ela terá: ',idadeFutura, ' Anos')"
      ],
      "execution_count": null,
      "outputs": [
        {
          "output_type": "stream",
          "name": "stdout",
          "text": [
            "Insira o ano de nascimento2004\n",
            "Insira o ano atual: 2023\n",
            "A pessoa tem:  19  Anos\n",
            "Em 2050 ela terá:  46  Anos\n"
          ]
        }
      ]
    },
    {
      "cell_type": "markdown",
      "metadata": {
        "id": "C23LWTfwhOPH"
      },
      "source": [
        "#### 15. O custo ao consumidor de um carro novo é a soma do preço de fábrica com o percentual de lucro do distribuidor e dos impostos aplicados ao preço de fábrica. Faça um programa que receba o preço de fábrica de um veículo, o percentual de lucro do distribuidor e o percentual de impostos, calcule e mostre:\n",
        "* o valor correspondente ao lucro do distribuidor;\n",
        "* o valor correspondente aos impostos;\n",
        "* o preço final do veículo.\n",
        "        LEIA preco_fabrica\n",
        "        LEIA percentual_lucro_distribuidor\n",
        "        LEIA percentual_imposto\n",
        "        lucro_distribuidor = preco_fabrica * percentual_lucro_distribuidor / 100\n",
        "        valor_imposto = preco_fabrica * percentual_imposto / 100\n",
        "        preco_final = preco_fabrica + lucro_distribuidor + valor_imposto\n",
        "        ESCREVA lucro_distribuidor\n",
        "        ESCREVA valor_imposto\n",
        "        ESCREVA preco_final\n"
      ]
    },
    {
      "cell_type": "code",
      "metadata": {
        "id": "WCpDCuR6hRlb",
        "colab": {
          "base_uri": "https://localhost:8080/"
        },
        "outputId": "4ba1da33-7535-4e8f-fd70-1c4cfab95714"
      },
      "source": [
        "preco_fabrica = float(input('Insira o preço de fabrica: '))\n",
        "percentual_lucroD = float(input('Insira o Lucro do distribuidor: '))\n",
        "percentual_imposto = int(input('Insira o Imposto: '))\n",
        "\n",
        "lucro_distribuidor = preco_fabrica * percentual_lucroD / 100\n",
        "valor_imposto = preco_fabrica * percentual_imposto / 100\n",
        "preco_final = preco_fabrica + lucro_distribuidor + valor_imposto \n",
        "\n",
        "print('Lucro do distribuidor: ',lucro_distribuidor)\n",
        "print('Valor do Imposto: ',valor_imposto)\n",
        "print('Preço Final: ',preco_final)\n"
      ],
      "execution_count": null,
      "outputs": [
        {
          "output_type": "stream",
          "name": "stdout",
          "text": [
            "Insira o preço de fabrica: 8000\n",
            "Insira o Lucro do distribuidor: 455\n",
            "Insira o Imposto: 12\n",
            "Lucro do distribuidor:  36400.0\n",
            "Valor do Imposto:  960.0\n",
            "Preço Final:  45360.0\n"
          ]
        }
      ]
    },
    {
      "cell_type": "markdown",
      "metadata": {
        "id": "eHRob5vghRuI"
      },
      "source": [
        "### 16. Faça um programa que receba o número de horas trabalhadas e o valor do salário mínimo, calcule e mostre o salário a receber, seguindo estas regras:\n",
        "* a hora trabalhada vale a metade do salário mínimo.\n",
        "* o salário bruto equivale ao número de horas trabalhadas multiplicado pelo valor da hora trabalhada.\n",
        "* o imposto equivale a 3% do salário bruto.\n",
        "* o salário a receber equivale ao salário bruto menos o imposto.\n",
        "      LEIA qtde_horas_trabalhadas\n",
        "      LEIA valor_salario_minimo\n",
        "      valor_hora_trabalhada = valor_salario_minimo / 2\n",
        "      valor_salario_bruto = valor_hora_trabalhada * qtde_horas_trabalhadas\n",
        "      imposto = valor_salario_bruto * 3 / 100\n",
        "      valor_salario_liquido =  valor_salario_bruto - imposto\n",
        "      ESCREVA valor_salario_liquido"
      ]
    },
    {
      "cell_type": "code",
      "metadata": {
        "id": "w_Kil4knhVrJ",
        "colab": {
          "base_uri": "https://localhost:8080/"
        },
        "outputId": "06549bca-75de-4837-914c-e099f71b9eaf"
      },
      "source": [
        "qtde_horas_trabalhadas = int(input('Insira as horas trabalhadas: '))\n",
        "valor_salario_minimo = float(input('Insira o salrio minimo: '))\n",
        "\n",
        "valor_hora_trabalhada = valor_salario_minimo / 2\n",
        "valor_salario_bruto = valor_hora_trabalhada * qtde_horas_trabalhadas\n",
        "imposto = valor_salario_bruto * 3 / 100\n",
        "valor_salario_liquido = valor_salario_bruto - imposto\n",
        "\n",
        "print('O valor do salario liquido é: ',valor_salario_liquido)"
      ],
      "execution_count": null,
      "outputs": [
        {
          "output_type": "stream",
          "name": "stdout",
          "text": [
            "Insira as horas trabalhadas: 48\n",
            "Insira o salrio minimo: 1212.12\n",
            "O valor do salario liquido é:  28218.153599999998\n"
          ]
        }
      ]
    },
    {
      "cell_type": "markdown",
      "metadata": {
        "id": "0OW87yEnhV-V"
      },
      "source": [
        "### 17. Um trabalhador recebeu seu salário e o depositou em sua conta bancária. Esse trabalhador emitiu dois cheques e agora deseja saber seu saldo atual. O banco criou uma taxa para a operação bancária de retirada que tem que pagar um imposto de 0.38% e o saldo inicial da conta está zerado.\n",
        "\n",
        "      LEIA salario\n",
        "      LEIA valor_cheque1\n",
        "      LEIA valor_cheque2\n",
        "      imposto_cheque1 = valor_cheque1 * 0.38 / 100\n",
        "      saque1 = valor_cheque1 + imposto_cheque1\n",
        "      imposto_cheque2 = valor_cheque2 * 0.38 / 100\n",
        "      saque2 = valor_cheque2 + imposto_cheque2\n",
        "      saldo = salario - saque1 - saque2\n",
        "      ESCREVA saldo\n"
      ]
    },
    {
      "cell_type": "code",
      "metadata": {
        "id": "MUEC63qMhYu1",
        "colab": {
          "base_uri": "https://localhost:8080/"
        },
        "outputId": "d77e78b7-5a52-42b3-d1b1-7781a967ec6f"
      },
      "source": [
        "salario = float(input('Insira o valor do salario: '))\n",
        "valor_cheque1 = float(input('Insira o valor do cheque: '))\n",
        "valor_cheque2 = float(input('Insira o valor do cheque: '))\n",
        "\n",
        "imposto_cheque1 = valor_cheque1 * 0.38 / 100\n",
        "saque1 = valor_cheque1 + imposto_cheque1\n",
        "imposto_cheque2 = valor_cheque2 * 0.38 / 100\n",
        "saque2 = valor_cheque2 + imposto_cheque2 \n",
        "saldo = salario - saque1 - saque2 \n",
        "\n",
        "print('Seu saldo: ',saldo)"
      ],
      "execution_count": null,
      "outputs": [
        {
          "output_type": "stream",
          "name": "stdout",
          "text": [
            "Insira o valor do salario: 80\n",
            "Insira o valor do cheque: 45\n",
            "Insira o valor do cheque: 22\n",
            "Seu saldo:  12.7454\n"
          ]
        }
      ]
    },
    {
      "cell_type": "markdown",
      "metadata": {
        "id": "tbHb8qiYheU3"
      },
      "source": [
        "### 18. Faça um programa que receba a medida do ângulo (em graus) formado por uma escada apoiada no chão e encostada na parede e a altura da parede onde está a ponta da escada. Calcule e mostre a medida dessa escada. Observação: as funções trigonométricas implementadas nas linguagens de programação trabalham com medidas de ângulos em radianos.\n",
        "      LEIA angulo\n",
        "      LEIA altura\n",
        "      import math # carrega a biblioteca matemática\n",
        "      radiano = angulo * math.pi / 180\n",
        "      escada = altura / math.sin(radiano)\n",
        "      ESCREVA escada\n",
        "**Observação**: Para usar seno em Python, deve-se usar esta linha de código **import math** e esta, no cálculo, **math.sin(numero)**\n",
        "\n",
        "**import math**\n",
        "\n",
        "escada = altura / **math.sin**(numero)"
      ]
    },
    {
      "cell_type": "code",
      "metadata": {
        "id": "Ijh7i02rhg0D",
        "colab": {
          "base_uri": "https://localhost:8080/"
        },
        "outputId": "65239c85-60b8-49eb-d78b-7ac51a723d3b"
      },
      "source": [
        "angulo = int(input('Insira o anguo: '))\n",
        "altura = int(input('Insira a altura: '))\n",
        "\n",
        "import math\n",
        "radiano = angulo * math.pi / 180\n",
        "escada = altura / math.sin(radiano)\n",
        "\n",
        "print('Escada: ',escada)\n"
      ],
      "execution_count": null,
      "outputs": [
        {
          "output_type": "stream",
          "name": "stdout",
          "text": [
            "Insira o anguo: 45\n",
            "Insira a altura: 10\n",
            "Escada:  14.142135623730951\n"
          ]
        }
      ]
    },
    {
      "cell_type": "markdown",
      "metadata": {
        "id": "P2CNkCZ5hiJH"
      },
      "source": [
        "###19. Sabe-se que o quilowatt de energia custa um quinto do salário mínimo. Faça um programa que receba o valor do salário mínimo e a quantidade de quilowatts consumida por uma residência. Calcule e mostre:\n",
        "\n",
        "\n",
        "* o valor de cada quilowatt;\n",
        "* o valor a ser pago por essa residência;\n",
        "* o valor a ser pago com desconto de 15%.\n",
        "      LEIA valor_salario\n",
        "      LEIA qtde_quilowatt\n",
        "      valor_quilowatt = valor_salario / 5\n",
        "      valor_em_reais = valor_quilowatt * qtde_quilowatt\n",
        "      valor_descontado = valor_em_reais * 15 / 100\n",
        "      valor_com_desconto =  valor_em_reais − valor_descontado\n",
        "      ESCREVA valor_quilowatt\n",
        "      ESCREVA valor_em_reais\n",
        "      ESCREVA valor_com_desconto\n"
      ]
    },
    {
      "cell_type": "code",
      "metadata": {
        "id": "RJpeKC7NhmIf",
        "colab": {
          "base_uri": "https://localhost:8080/"
        },
        "outputId": "20d4e46a-6600-4aac-a8ca-c3abcd9f6f56"
      },
      "source": [
        "valorSalario = float(input('Insira o salario aqui: '))\n",
        "qtde_quilowatt = int(input('Insira o quilo watt: '))\n",
        "\n",
        "valor_quilowatt = valorSalario / 5\n",
        "valor_em_reais = valor_quilowatt * qtde_quilowatt\n",
        "valor_descontado = valor_em_reais * 15 / 100\n",
        "valor_com_desconto = valor_em_reais - valor_descontado\n",
        "\n",
        "print('Valor em quilowatt: ',valor_quilowatt)\n",
        "print('Valor em reais: ',valor_em_reais)\n",
        "print('Valor com desconto: ',valor_com_desconto)\n"
      ],
      "execution_count": null,
      "outputs": [
        {
          "output_type": "stream",
          "name": "stdout",
          "text": [
            "Insira o salario aqui: 7899\n",
            "Insira o quilo watt: 54\n",
            "Valor em quilowatt:  1579.8\n",
            "Valor em reais:  85309.2\n",
            "Valor com desconto:  72512.81999999999\n"
          ]
        }
      ]
    },
    {
      "cell_type": "markdown",
      "metadata": {
        "id": "hDmdn0BWhmTx"
      },
      "source": [
        "### 20. Faça um programa que receba um número real, encontre e mostre:\n",
        "\n",
        "* a parte inteira desse número;\n",
        "* a parte fracionária desse número;\n",
        "* o arredondamento desse número.\n",
        "\n",
        "      LEIA numero\n",
        "      parte_inteira = numero // 1\n",
        "      parte_fracionaria = numero - parte_inteira\n",
        "      numero_arredondado = round (numero)\n",
        "      ESCREVA parte_inteira\n",
        "      ESCREVA parte_fracionaria\n",
        "      ESCREVA numero_arredondado\n",
        "      \n",
        "**Observação**: Para arredondar um número em Python, usa-se a função **round(numero)**, onde se o número real/float estiver em igual distância entre o inteiro de cima e o inteiro de baixo, esta função arredonda para o número mais próximo.\n",
        "\n"
      ]
    },
    {
      "cell_type": "code",
      "metadata": {
        "id": "sT5U0LgGhozg",
        "colab": {
          "base_uri": "https://localhost:8080/"
        },
        "outputId": "bf61d7e4-830b-4be2-b5af-7a4a7d3bd33e"
      },
      "source": [
        "numero = float(input('Insira o numero: '))\n",
        "\n",
        "parteInteira = numero // 1\n",
        "parteFracionada = numero - parteInteira\n",
        "numeroArredondado = round (numero)\n",
        "\n",
        "print('Parte inteira: ',parteInteira)\n",
        "print('Parte Fracionada: ',parteFracionada)\n",
        "print('Numero arredondado: ',numeroArredondado)"
      ],
      "execution_count": null,
      "outputs": [
        {
          "output_type": "stream",
          "name": "stdout",
          "text": [
            "Insira o numero: 8.3\n",
            "Parte inteira:  8.0\n",
            "Parte Fracionada:  0.3000000000000007\n",
            "Numero arredondado:  8\n"
          ]
        }
      ]
    },
    {
      "cell_type": "markdown",
      "metadata": {
        "id": "0Ae-WDdAho8j"
      },
      "source": [
        "### 21. Faça um programa que receba uma hora formada por hora e minutos (um número real), calcule e mostre a hora digitada apenas em minutos. Lembre-se de que:\n",
        "* para quatro e meia, deve-se digitar 4.30;\n",
        "* os minutos vão de 0 a 59.\n",
        "      LEIA hora\n",
        "      h = pegar a parte inteira da variável hora\n",
        "      minutos = hora − h\n",
        "      conversao = (h * 60) + (minutos * 100)\n",
        "      ESCREVA conversao\n"
      ]
    },
    {
      "cell_type": "code",
      "metadata": {
        "id": "ePoxc4bohrQm",
        "colab": {
          "base_uri": "https://localhost:8080/"
        },
        "outputId": "c47c4ede-badf-4eb0-ab22-6ba29dbc327b"
      },
      "source": [
        "hora = float(input('Insira a hora: '))\n",
        "h = hora // 1\n",
        "\n",
        "minutos = hora - h\n",
        "conversao = (h * 60) + (minutos * 100)\n",
        "\n",
        "print('Conversão: ',conversao)"
      ],
      "execution_count": null,
      "outputs": [
        {
          "output_type": "stream",
          "name": "stdout",
          "text": [
            "Insira a hora: 4.30\n",
            "Conversão:  270.0\n"
          ]
        }
      ]
    },
    {
      "cell_type": "markdown",
      "metadata": {
        "id": "-YjvNy_DhrZa"
      },
      "source": [
        "### 22. Faça um programa que receba o custo de um espetáculo teatral e o preço do convite desse espetáculo. Esse programa deverá calcular e mostrar a quantidade de convites que devem ser vendidos para que, pelo menos, o custo do espetáculo seja alcançado.\n"
      ]
    },
    {
      "cell_type": "code",
      "metadata": {
        "id": "55qawy58hsl0",
        "colab": {
          "base_uri": "https://localhost:8080/"
        },
        "outputId": "9d169b49-e140-4176-8455-d9609680f707"
      },
      "source": [
        "custo = float(input('Insira o custo do teatro: '))\n",
        "preco = float(input('Insira o preço do ingreço: '))\n",
        "\n",
        "calc = custo / preco\n",
        "\n",
        "print('Devem ser vendidos: ',calc,'ingressos')"
      ],
      "execution_count": null,
      "outputs": [
        {
          "output_type": "stream",
          "name": "stdout",
          "text": [
            "Insira o custo do teatro: 10\n",
            "Insira o preço do ingreço: 2\n",
            "Devem ser vendidos:  5.0 ingressos\n"
          ]
        }
      ]
    }
  ]
}